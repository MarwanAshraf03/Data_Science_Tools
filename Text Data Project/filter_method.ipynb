{
 "cells": [
  {
   "cell_type": "code",
   "execution_count": 99,
   "id": "5530d3aa",
   "metadata": {},
   "outputs": [],
   "source": [
    "from scipy.io import arff\n",
    "import pandas as pd\n",
    "import numpy as np \n",
    "\n",
    "from sklearn.feature_selection import SelectKBest\n",
    "from sklearn.feature_selection import f_classif\n",
    "from sklearn.svm import SVC\n",
    "\n",
    "from sklearn.preprocessing import LabelEncoder\n"
   ]
  },
  {
   "cell_type": "code",
   "execution_count": 97,
   "id": "90893b5b",
   "metadata": {},
   "outputs": [
    {
     "name": "stdout",
     "output_type": "stream",
     "text": [
      "     AFFX-MurIL2_at  AFFX-MurIL10_at  AFFX-MurIL4_at  AFFX-MurFAS_at  \\\n",
      "0           -18.600            10.54           0.010          19.440   \n",
      "1             9.120             9.12          10.180          29.290   \n",
      "2            -2.175            -2.21          -0.060           6.320   \n",
      "3            -1.540            21.75           5.835          23.815   \n",
      "4            -9.070             3.08          -1.980          17.260   \n",
      "..              ...              ...             ...             ...   \n",
      "198          35.140           106.16          52.280          65.340   \n",
      "199         -21.150           -31.20         -11.820           8.280   \n",
      "200          26.900            10.44          18.230          33.830   \n",
      "201          23.800            29.14          31.800          65.610   \n",
      "202         -18.370            -1.03          -8.260          27.150   \n",
      "\n",
      "     AFFX-BioB-5_at  AFFX-BioB-M_at  AFFX-BioB-3_at  AFFX-BioC-5_at  \\\n",
      "0           -16.980          -27.50          -1.600           38.88   \n",
      "1            -4.680           -1.50          -3.620           20.80   \n",
      "2            -1.775          -16.53          -3.610           16.41   \n",
      "3           -24.785          -12.89          -4.485           19.50   \n",
      "4           -10.090          -15.15         -18.190           13.21   \n",
      "..              ...             ...             ...             ...   \n",
      "198          27.790           33.50          95.540           93.09   \n",
      "199         -24.740          -29.77           3.970           21.92   \n",
      "200         -11.220           -4.29          19.970           14.77   \n",
      "201           4.240           24.69          31.800           62.94   \n",
      "202         -23.430          -32.81         -21.980            3.30   \n",
      "\n",
      "     AFFX-BioC-3_at  AFFX-BioDn-5_at  ...  101_at  102_at  103_at  104_at  \\\n",
      "0           -29.120          -42.870  ...   8.110  33.210  30.780   47.80   \n",
      "1           -13.180          -35.470  ...  15.490  27.170  26.110   45.22   \n",
      "2           -17.970          -57.020  ...  14.610  10.875  10.615   35.14   \n",
      "3           -21.445          -47.205  ...   9.615  27.355  30.860   48.71   \n",
      "4           -13.130          -39.470  ... -14.140  23.340   6.120   33.46   \n",
      "..              ...              ...  ...     ...     ...     ...     ...   \n",
      "198          14.730            1.680  ...  74.320  77.580  73.500   76.77   \n",
      "199         -31.200          -60.610  ... -16.130  11.150  -6.080   35.57   \n",
      "200         -10.350          -33.730  ...  41.630  26.900  34.700   76.30   \n",
      "201         -14.420          -48.180  ...  17.580  51.370  30.910   94.10   \n",
      "202         -24.870          -63.140  ...  -2.480  14.140  18.480   53.91   \n",
      "\n",
      "     105_at  106_at   107_at  108_g_at   109_at  type  \n",
      "0     1.630  17.020   13.780   -103.49   76.980  b'1'  \n",
      "1    10.180  69.640  -24.850    -34.41  105.730  b'1'  \n",
      "2     1.745  29.710   10.465    -42.63   73.735  b'1'  \n",
      "3    10.355  40.845   54.615    -71.38   65.435  b'1'  \n",
      "4   -10.090  40.550   16.250    -48.59   39.540  b'1'  \n",
      "..      ...     ...      ...       ...      ...   ...  \n",
      "198  48.200  71.870  143.720     41.67  118.410  b'5'  \n",
      "199  -3.210  24.070  -56.310    -43.40   65.030  b'5'  \n",
      "200   6.970  32.100  -28.540      0.04   71.970  b'5'  \n",
      "201  26.470  41.590  117.260    -36.64  135.080  b'5'  \n",
      "202  -4.640  10.530   74.170    -24.87   40.170  b'5'  \n",
      "\n",
      "[203 rows x 12601 columns]\n"
     ]
    }
   ],
   "source": [
    "data, meta = arff.loadarff(\"Lung.arff\")\n",
    "\n",
    "df = pd.DataFrame(data)\n",
    "\n",
    "print(df)\n"
   ]
  },
  {
   "cell_type": "code",
   "execution_count": 100,
   "id": "5424cd9d",
   "metadata": {},
   "outputs": [
    {
     "data": {
      "text/plain": [
       "0"
      ]
     },
     "execution_count": 100,
     "metadata": {},
     "output_type": "execute_result"
    }
   ],
   "source": [
    "df.duplicated().sum()"
   ]
  },
  {
   "cell_type": "code",
   "execution_count": 101,
   "id": "2a4a79b6",
   "metadata": {},
   "outputs": [
    {
     "data": {
      "text/plain": [
       "0"
      ]
     },
     "execution_count": 101,
     "metadata": {},
     "output_type": "execute_result"
    }
   ],
   "source": [
    "df.isnull().sum().sum()"
   ]
  },
  {
   "cell_type": "code",
   "execution_count": 102,
   "id": "0339aba7",
   "metadata": {},
   "outputs": [
    {
     "name": "stdout",
     "output_type": "stream",
     "text": [
      "{b'1': 139, b'2': 17, b'3': 6, b'4': 21, b'5': 20}\n"
     ]
    }
   ],
   "source": [
    "dicti = {}\n",
    "for i in df[:]['type']:\n",
    "    if i not in dicti.keys():\n",
    "        dicti[i] = 1\n",
    "    else:\n",
    "        dicti[i] += 1\n",
    "print(dicti)"
   ]
  },
  {
   "cell_type": "code",
   "execution_count": 103,
   "id": "7f51185b",
   "metadata": {},
   "outputs": [],
   "source": [
    "X = df.drop('type', axis=1)\n",
    "y = df['type']"
   ]
  },
  {
   "cell_type": "code",
   "execution_count": 104,
   "id": "41a2eaf4",
   "metadata": {},
   "outputs": [
    {
     "data": {
      "text/plain": [
       "array([0, 0, 0, 0, 0, 0, 0, 0, 0, 0, 0, 0, 0, 0, 0, 0, 0, 0, 0, 0, 0, 0,\n",
       "       0, 0, 0, 0, 0, 0, 0, 0, 0, 0, 0, 0, 0, 0, 0, 0, 0, 0, 0, 0, 0, 0,\n",
       "       0, 0, 0, 0, 0, 0, 0, 0, 0, 0, 0, 0, 0, 0, 0, 0, 0, 0, 0, 0, 0, 0,\n",
       "       0, 0, 0, 0, 0, 0, 0, 0, 0, 0, 0, 0, 0, 0, 0, 0, 0, 0, 0, 0, 0, 0,\n",
       "       0, 0, 0, 0, 0, 0, 0, 0, 0, 0, 0, 0, 0, 0, 0, 0, 0, 0, 0, 0, 0, 0,\n",
       "       0, 0, 0, 0, 0, 0, 0, 0, 0, 0, 0, 0, 0, 0, 0, 0, 0, 0, 0, 0, 0, 0,\n",
       "       0, 0, 0, 0, 0, 0, 0, 1, 1, 1, 1, 1, 1, 1, 1, 1, 1, 1, 1, 1, 1, 1,\n",
       "       1, 1, 2, 2, 2, 2, 2, 2, 3, 3, 3, 3, 3, 3, 3, 3, 3, 3, 3, 3, 3, 3,\n",
       "       3, 3, 3, 3, 3, 3, 3, 4, 4, 4, 4, 4, 4, 4, 4, 4, 4, 4, 4, 4, 4, 4,\n",
       "       4, 4, 4, 4, 4])"
      ]
     },
     "execution_count": 104,
     "metadata": {},
     "output_type": "execute_result"
    }
   ],
   "source": [
    "\n",
    "label_encoder = LabelEncoder()\n",
    "y_binary = label_encoder.fit_transform(y)\n",
    "y_binary"
   ]
  },
  {
   "cell_type": "code",
   "execution_count": 141,
   "id": "eb7c76ca",
   "metadata": {},
   "outputs": [],
   "source": [
    "\n",
    "scores=[]\n",
    "\n",
    "svc=SVC()\n",
    "\n",
    "no_of_features=[x*10 for x in range(1,1200)]\n",
    "\n",
    "for i in no_of_features:\n",
    "    \n",
    "    selector = SelectKBest(f_classif, k=i)  \n",
    "    X_selected = selector.fit_transform(X, y_binary)\n",
    "\n",
    "    svc.fit(X_selected,y_binary)\n",
    "    scores.append(svc.score(X_selected,y_binary))\n",
    "    "
   ]
  },
  {
   "cell_type": "code",
   "execution_count": 143,
   "id": "ee13c64f",
   "metadata": {},
   "outputs": [
    {
     "data": {
      "text/plain": [
       "array([[1.00000000e+01, 7.83251232e-01],\n",
       "       [2.00000000e+01, 7.83251232e-01],\n",
       "       [3.00000000e+01, 7.98029557e-01],\n",
       "       ...,\n",
       "       [1.19700000e+04, 9.35960591e-01],\n",
       "       [1.19800000e+04, 9.35960591e-01],\n",
       "       [1.19900000e+04, 9.35960591e-01]])"
      ]
     },
     "execution_count": 143,
     "metadata": {},
     "output_type": "execute_result"
    }
   ],
   "source": [
    "socre_per_features=[i for i in zip(no_of_features,scores)]\n",
    "socre_per_features=np.array(socre_per_features)\n",
    "socre_per_features"
   ]
  },
  {
   "cell_type": "code",
   "execution_count": 176,
   "id": "f1f3226a",
   "metadata": {},
   "outputs": [
    {
     "name": "stdout",
     "output_type": "stream",
     "text": [
      "750 is the best number of feature based on f_classif feature selection technique technique with  0.961 accuracy using SVM model\n"
     ]
    }
   ],
   "source": [
    "\n",
    "best_no_of_features_values = max(socre_per_features, key=lambda x: x[1])\n",
    "\n",
    "best_no_of_features=best_no_of_features_values[0]\n",
    "highest_accuracy=best_no_of_features_values[1]\n",
    "print(f\"{int(best_no_of_features)} is the best number of feature based on f_classif feature selection technique technique with {highest_accuracy: .3} accuracy using SVM model\")\n"
   ]
  },
  {
   "cell_type": "code",
   "execution_count": 177,
   "id": "5973b709",
   "metadata": {},
   "outputs": [
    {
     "name": "stdout",
     "output_type": "stream",
     "text": [
      "Selected Features: Index(['31403_at', '31444_s_at', '31525_s_at', '31638_at', '31687_f_at',\n",
      "       '31918_at', '32425_at', '32444_at', '32996_g_at', '33051_at',\n",
      "       ...\n",
      "       '268_at', '260_at', '227_g_at', '236_at', '202_at', '185_at', '197_at',\n",
      "       '198_g_at', '162_at', '113_i_at'],\n",
      "      dtype='object', length=750)\n"
     ]
    }
   ],
   "source": [
    "selector = SelectKBest(f_classif, k=750)  # Select top 5 features (adjust as needed)\n",
    "X_selected = selector.fit_transform(X, y)\n",
    "\n",
    "selected_indices = selector.get_support(indices=True)\n",
    "\n",
    "#selected genes\n",
    "selected_features = X.columns[selected_indices]\n",
    "print(\"Selected Features:\", selected_features)\n"
   ]
  }
 ],
 "metadata": {
  "kernelspec": {
   "display_name": "Python 3 (ipykernel)",
   "language": "python",
   "name": "python3"
  },
  "language_info": {
   "codemirror_mode": {
    "name": "ipython",
    "version": 3
   },
   "file_extension": ".py",
   "mimetype": "text/x-python",
   "name": "python",
   "nbconvert_exporter": "python",
   "pygments_lexer": "ipython3",
   "version": "3.9.12"
  }
 },
 "nbformat": 4,
 "nbformat_minor": 5
}
