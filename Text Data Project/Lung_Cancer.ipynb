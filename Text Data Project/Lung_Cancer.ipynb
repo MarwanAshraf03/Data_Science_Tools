{
 "cells": [
  {
   "cell_type": "code",
   "execution_count": 110,
   "id": "5530d3aa",
   "metadata": {},
   "outputs": [],
   "source": [
    "from scipy.io import arff\n",
    "\n",
    "import pandas as pd\n",
    "\n",
    "import numpy as np \n",
    "\n",
    "import seaborn as sns\n",
    "\n",
    "import plotly.express as px\n",
    "\n",
    "from sklearn.decomposition import PCA\n",
    "\n",
    "from sklearn.svm import SVC\n",
    "\n",
    "from sklearn.feature_selection import SelectKBest\n",
    "from sklearn.feature_selection import f_classif\n",
    "from sklearn.model_selection import train_test_split\n",
    "\n",
    "from sklearn.ensemble import RandomForestClassifier\n",
    "\n",
    "from sklearn.preprocessing import StandardScaler\n",
    "\n",
    "from sklearn.linear_model import LogisticRegression\n",
    "\n",
    "from tensorflow.keras.models import Sequential\n",
    "from tensorflow.keras.layers import Dense\n",
    "\n",
    "from sklearn.metrics import classification_report,confusion_matrix,accuracy_score\n",
    "\n",
    "from sklearn.preprocessing import LabelEncoder\n",
    "from sklearn.pipeline import Pipeline"
   ]
  },
  {
   "cell_type": "code",
   "execution_count": 2,
   "id": "f3e6fcae",
   "metadata": {},
   "outputs": [
    {
     "name": "stdout",
     "output_type": "stream",
     "text": [
      "     AFFX-MurIL2_at  AFFX-MurIL10_at  AFFX-MurIL4_at  AFFX-MurFAS_at  \\\n",
      "0           -18.600            10.54           0.010          19.440   \n",
      "1             9.120             9.12          10.180          29.290   \n",
      "2            -2.175            -2.21          -0.060           6.320   \n",
      "3            -1.540            21.75           5.835          23.815   \n",
      "4            -9.070             3.08          -1.980          17.260   \n",
      "..              ...              ...             ...             ...   \n",
      "198          35.140           106.16          52.280          65.340   \n",
      "199         -21.150           -31.20         -11.820           8.280   \n",
      "200          26.900            10.44          18.230          33.830   \n",
      "201          23.800            29.14          31.800          65.610   \n",
      "202         -18.370            -1.03          -8.260          27.150   \n",
      "\n",
      "     AFFX-BioB-5_at  AFFX-BioB-M_at  AFFX-BioB-3_at  AFFX-BioC-5_at  \\\n",
      "0           -16.980          -27.50          -1.600           38.88   \n",
      "1            -4.680           -1.50          -3.620           20.80   \n",
      "2            -1.775          -16.53          -3.610           16.41   \n",
      "3           -24.785          -12.89          -4.485           19.50   \n",
      "4           -10.090          -15.15         -18.190           13.21   \n",
      "..              ...             ...             ...             ...   \n",
      "198          27.790           33.50          95.540           93.09   \n",
      "199         -24.740          -29.77           3.970           21.92   \n",
      "200         -11.220           -4.29          19.970           14.77   \n",
      "201           4.240           24.69          31.800           62.94   \n",
      "202         -23.430          -32.81         -21.980            3.30   \n",
      "\n",
      "     AFFX-BioC-3_at  AFFX-BioDn-5_at  ...  101_at  102_at  103_at  104_at  \\\n",
      "0           -29.120          -42.870  ...   8.110  33.210  30.780   47.80   \n",
      "1           -13.180          -35.470  ...  15.490  27.170  26.110   45.22   \n",
      "2           -17.970          -57.020  ...  14.610  10.875  10.615   35.14   \n",
      "3           -21.445          -47.205  ...   9.615  27.355  30.860   48.71   \n",
      "4           -13.130          -39.470  ... -14.140  23.340   6.120   33.46   \n",
      "..              ...              ...  ...     ...     ...     ...     ...   \n",
      "198          14.730            1.680  ...  74.320  77.580  73.500   76.77   \n",
      "199         -31.200          -60.610  ... -16.130  11.150  -6.080   35.57   \n",
      "200         -10.350          -33.730  ...  41.630  26.900  34.700   76.30   \n",
      "201         -14.420          -48.180  ...  17.580  51.370  30.910   94.10   \n",
      "202         -24.870          -63.140  ...  -2.480  14.140  18.480   53.91   \n",
      "\n",
      "     105_at  106_at   107_at  108_g_at   109_at  type  \n",
      "0     1.630  17.020   13.780   -103.49   76.980  b'1'  \n",
      "1    10.180  69.640  -24.850    -34.41  105.730  b'1'  \n",
      "2     1.745  29.710   10.465    -42.63   73.735  b'1'  \n",
      "3    10.355  40.845   54.615    -71.38   65.435  b'1'  \n",
      "4   -10.090  40.550   16.250    -48.59   39.540  b'1'  \n",
      "..      ...     ...      ...       ...      ...   ...  \n",
      "198  48.200  71.870  143.720     41.67  118.410  b'5'  \n",
      "199  -3.210  24.070  -56.310    -43.40   65.030  b'5'  \n",
      "200   6.970  32.100  -28.540      0.04   71.970  b'5'  \n",
      "201  26.470  41.590  117.260    -36.64  135.080  b'5'  \n",
      "202  -4.640  10.530   74.170    -24.87   40.170  b'5'  \n",
      "\n",
      "[203 rows x 12601 columns]\n"
     ]
    }
   ],
   "source": [
    "data, meta = arff.loadarff(\"Lung.arff\")\n",
    "\n",
    "df = pd.DataFrame(data)\n",
    "\n",
    "print(df)\n"
   ]
  },
  {
   "cell_type": "code",
   "execution_count": 3,
   "id": "5424cd9d",
   "metadata": {},
   "outputs": [
    {
     "data": {
      "text/plain": [
       "0"
      ]
     },
     "execution_count": 3,
     "metadata": {},
     "output_type": "execute_result"
    }
   ],
   "source": [
    "df.duplicated().sum()"
   ]
  },
  {
   "cell_type": "code",
   "execution_count": 4,
   "id": "2a4a79b6",
   "metadata": {},
   "outputs": [
    {
     "data": {
      "text/plain": [
       "0"
      ]
     },
     "execution_count": 4,
     "metadata": {},
     "output_type": "execute_result"
    }
   ],
   "source": [
    "df.isnull().sum().sum()"
   ]
  },
  {
   "cell_type": "code",
   "execution_count": 5,
   "id": "0339aba7",
   "metadata": {},
   "outputs": [
    {
     "name": "stdout",
     "output_type": "stream",
     "text": [
      "{b'1': 139, b'2': 17, b'3': 6, b'4': 21, b'5': 20}\n"
     ]
    }
   ],
   "source": [
    "dicti = {}\n",
    "for i in df[:]['type']:\n",
    "    if i not in dicti.keys():\n",
    "        dicti[i] = 1\n",
    "    else:\n",
    "        dicti[i] += 1\n",
    "print(dicti)"
   ]
  },
  {
   "cell_type": "code",
   "execution_count": 6,
   "id": "7f51185b",
   "metadata": {},
   "outputs": [],
   "source": [
    "X = df.drop('type', axis=1)\n",
    "y = df['type']"
   ]
  },
  {
   "cell_type": "code",
   "execution_count": 7,
   "id": "41a2eaf4",
   "metadata": {},
   "outputs": [
    {
     "data": {
      "text/plain": [
       "array([0, 0, 0, 0, 0, 0, 0, 0, 0, 0, 0, 0, 0, 0, 0, 0, 0, 0, 0, 0, 0, 0,\n",
       "       0, 0, 0, 0, 0, 0, 0, 0, 0, 0, 0, 0, 0, 0, 0, 0, 0, 0, 0, 0, 0, 0,\n",
       "       0, 0, 0, 0, 0, 0, 0, 0, 0, 0, 0, 0, 0, 0, 0, 0, 0, 0, 0, 0, 0, 0,\n",
       "       0, 0, 0, 0, 0, 0, 0, 0, 0, 0, 0, 0, 0, 0, 0, 0, 0, 0, 0, 0, 0, 0,\n",
       "       0, 0, 0, 0, 0, 0, 0, 0, 0, 0, 0, 0, 0, 0, 0, 0, 0, 0, 0, 0, 0, 0,\n",
       "       0, 0, 0, 0, 0, 0, 0, 0, 0, 0, 0, 0, 0, 0, 0, 0, 0, 0, 0, 0, 0, 0,\n",
       "       0, 0, 0, 0, 0, 0, 0, 1, 1, 1, 1, 1, 1, 1, 1, 1, 1, 1, 1, 1, 1, 1,\n",
       "       1, 1, 2, 2, 2, 2, 2, 2, 3, 3, 3, 3, 3, 3, 3, 3, 3, 3, 3, 3, 3, 3,\n",
       "       3, 3, 3, 3, 3, 3, 3, 4, 4, 4, 4, 4, 4, 4, 4, 4, 4, 4, 4, 4, 4, 4,\n",
       "       4, 4, 4, 4, 4])"
      ]
     },
     "execution_count": 7,
     "metadata": {},
     "output_type": "execute_result"
    }
   ],
   "source": [
    "\n",
    "label_encoder = LabelEncoder()\n",
    "y_binary = label_encoder.fit_transform(y)\n",
    "y_binary\n"
   ]
  },
  {
   "cell_type": "code",
   "execution_count": 8,
   "id": "5ea5e319",
   "metadata": {},
   "outputs": [],
   "source": [
    "scale=StandardScaler()\n",
    "X_scaled=scale.fit_transform(X)\n"
   ]
  },
  {
   "cell_type": "code",
   "execution_count": 9,
   "id": "6edc8a12",
   "metadata": {},
   "outputs": [
    {
     "data": {
      "text/plain": [
       "(203, 12600)"
      ]
     },
     "execution_count": 9,
     "metadata": {},
     "output_type": "execute_result"
    }
   ],
   "source": [
    "X_scaled.shape"
   ]
  },
  {
   "cell_type": "code",
   "execution_count": 86,
   "id": "63fb5a7f",
   "metadata": {},
   "outputs": [
    {
     "data": {
      "text/plain": [
       "((121, 12600), (121,), (82, 12600), (82,))"
      ]
     },
     "execution_count": 86,
     "metadata": {},
     "output_type": "execute_result"
    }
   ],
   "source": [
    "X_train,X_test,y_train,y_test=train_test_split(X_scaled,y_binary,test_size=0.40,random_state=42,stratify=y)\n",
    "X_train.shape,y_train.shape,X_test.shape,y_test.shape"
   ]
  },
  {
   "cell_type": "code",
   "execution_count": 87,
   "id": "25afc606",
   "metadata": {},
   "outputs": [],
   "source": [
    "# label_encoder = LabelEncoder()\n",
    "# y_train_encoded = label_encoder.fit_transform(y_train)\n",
    "# y_test_encoded = label_encoder.fit_transform(y_test)\n",
    "# y_train_encoded,y_test_encoded"
   ]
  },
  {
   "cell_type": "code",
   "execution_count": 88,
   "id": "809d6a0a",
   "metadata": {},
   "outputs": [],
   "source": [
    "X_test=pd.DataFrame(X_test)\n",
    "X_train=pd.DataFrame(X_train)"
   ]
  },
  {
   "cell_type": "code",
   "execution_count": 89,
   "id": "eb7c76ca",
   "metadata": {},
   "outputs": [],
   "source": [
    "\n",
    "scores=[]\n",
    "\n",
    "RandomForest=RandomForestClassifier()\n",
    "\n",
    "no_of_features=[x*100 for x in range(1,120)]\n",
    "\n",
    "\n",
    "for i in no_of_features:\n",
    "    \n",
    "    selector = SelectKBest(f_classif, k=i)     \n",
    "    \n",
    "    X_selected = selector.fit_transform(X_scaled, y)\n",
    "    \n",
    "    selected_indices = selector.get_support(indices=True)\n",
    "\n",
    "    RandomForest.fit(X_train[selected_indices],y_train)\n",
    "    \n",
    "    scores.append(RandomForest.score(X_test[list(selected_indices)],y_test))\n",
    "    "
   ]
  },
  {
   "cell_type": "code",
   "execution_count": 90,
   "id": "ebcc5639",
   "metadata": {
    "scrolled": false
   },
   "outputs": [
    {
     "data": {
      "text/plain": [
       "array([[1.00000000e+02, 9.02439024e-01],\n",
       "       [2.00000000e+02, 9.14634146e-01],\n",
       "       [3.00000000e+02, 9.26829268e-01],\n",
       "       [4.00000000e+02, 9.14634146e-01],\n",
       "       [5.00000000e+02, 9.14634146e-01],\n",
       "       [6.00000000e+02, 9.26829268e-01],\n",
       "       [7.00000000e+02, 9.14634146e-01],\n",
       "       [8.00000000e+02, 9.39024390e-01],\n",
       "       [9.00000000e+02, 9.02439024e-01],\n",
       "       [1.00000000e+03, 9.14634146e-01],\n",
       "       [1.10000000e+03, 9.14634146e-01],\n",
       "       [1.20000000e+03, 9.14634146e-01],\n",
       "       [1.30000000e+03, 8.90243902e-01],\n",
       "       [1.40000000e+03, 9.02439024e-01],\n",
       "       [1.50000000e+03, 9.14634146e-01],\n",
       "       [1.60000000e+03, 9.02439024e-01],\n",
       "       [1.70000000e+03, 9.02439024e-01],\n",
       "       [1.80000000e+03, 8.90243902e-01],\n",
       "       [1.90000000e+03, 9.02439024e-01],\n",
       "       [2.00000000e+03, 9.02439024e-01],\n",
       "       [2.10000000e+03, 8.90243902e-01],\n",
       "       [2.20000000e+03, 9.02439024e-01],\n",
       "       [2.30000000e+03, 9.14634146e-01],\n",
       "       [2.40000000e+03, 9.02439024e-01],\n",
       "       [2.50000000e+03, 8.90243902e-01],\n",
       "       [2.60000000e+03, 8.90243902e-01],\n",
       "       [2.70000000e+03, 9.02439024e-01],\n",
       "       [2.80000000e+03, 8.90243902e-01],\n",
       "       [2.90000000e+03, 9.02439024e-01],\n",
       "       [3.00000000e+03, 9.26829268e-01],\n",
       "       [3.10000000e+03, 8.90243902e-01],\n",
       "       [3.20000000e+03, 9.26829268e-01],\n",
       "       [3.30000000e+03, 8.90243902e-01],\n",
       "       [3.40000000e+03, 9.02439024e-01],\n",
       "       [3.50000000e+03, 8.90243902e-01],\n",
       "       [3.60000000e+03, 9.02439024e-01],\n",
       "       [3.70000000e+03, 8.90243902e-01],\n",
       "       [3.80000000e+03, 9.26829268e-01],\n",
       "       [3.90000000e+03, 9.02439024e-01],\n",
       "       [4.00000000e+03, 9.14634146e-01],\n",
       "       [4.10000000e+03, 8.90243902e-01],\n",
       "       [4.20000000e+03, 9.14634146e-01],\n",
       "       [4.30000000e+03, 8.90243902e-01],\n",
       "       [4.40000000e+03, 8.90243902e-01],\n",
       "       [4.50000000e+03, 9.02439024e-01],\n",
       "       [4.60000000e+03, 8.90243902e-01],\n",
       "       [4.70000000e+03, 8.90243902e-01],\n",
       "       [4.80000000e+03, 8.90243902e-01],\n",
       "       [4.90000000e+03, 8.90243902e-01],\n",
       "       [5.00000000e+03, 9.02439024e-01],\n",
       "       [5.10000000e+03, 8.90243902e-01],\n",
       "       [5.20000000e+03, 9.02439024e-01],\n",
       "       [5.30000000e+03, 9.02439024e-01],\n",
       "       [5.40000000e+03, 9.02439024e-01],\n",
       "       [5.50000000e+03, 9.14634146e-01],\n",
       "       [5.60000000e+03, 9.02439024e-01],\n",
       "       [5.70000000e+03, 9.14634146e-01],\n",
       "       [5.80000000e+03, 9.02439024e-01],\n",
       "       [5.90000000e+03, 8.90243902e-01],\n",
       "       [6.00000000e+03, 8.90243902e-01],\n",
       "       [6.10000000e+03, 8.90243902e-01],\n",
       "       [6.20000000e+03, 9.02439024e-01],\n",
       "       [6.30000000e+03, 8.90243902e-01],\n",
       "       [6.40000000e+03, 8.90243902e-01],\n",
       "       [6.50000000e+03, 9.02439024e-01],\n",
       "       [6.60000000e+03, 9.02439024e-01],\n",
       "       [6.70000000e+03, 8.90243902e-01],\n",
       "       [6.80000000e+03, 8.90243902e-01],\n",
       "       [6.90000000e+03, 9.14634146e-01],\n",
       "       [7.00000000e+03, 8.90243902e-01],\n",
       "       [7.10000000e+03, 8.90243902e-01],\n",
       "       [7.20000000e+03, 8.90243902e-01],\n",
       "       [7.30000000e+03, 9.14634146e-01],\n",
       "       [7.40000000e+03, 8.90243902e-01],\n",
       "       [7.50000000e+03, 9.02439024e-01],\n",
       "       [7.60000000e+03, 8.90243902e-01],\n",
       "       [7.70000000e+03, 8.90243902e-01],\n",
       "       [7.80000000e+03, 9.02439024e-01],\n",
       "       [7.90000000e+03, 8.90243902e-01],\n",
       "       [8.00000000e+03, 8.65853659e-01],\n",
       "       [8.10000000e+03, 8.78048780e-01],\n",
       "       [8.20000000e+03, 9.02439024e-01],\n",
       "       [8.30000000e+03, 9.02439024e-01],\n",
       "       [8.40000000e+03, 9.02439024e-01],\n",
       "       [8.50000000e+03, 8.78048780e-01],\n",
       "       [8.60000000e+03, 8.90243902e-01],\n",
       "       [8.70000000e+03, 8.90243902e-01],\n",
       "       [8.80000000e+03, 9.02439024e-01],\n",
       "       [8.90000000e+03, 8.90243902e-01],\n",
       "       [9.00000000e+03, 9.02439024e-01],\n",
       "       [9.10000000e+03, 8.90243902e-01],\n",
       "       [9.20000000e+03, 8.90243902e-01],\n",
       "       [9.30000000e+03, 9.26829268e-01],\n",
       "       [9.40000000e+03, 8.90243902e-01],\n",
       "       [9.50000000e+03, 8.78048780e-01],\n",
       "       [9.60000000e+03, 8.78048780e-01],\n",
       "       [9.70000000e+03, 8.78048780e-01],\n",
       "       [9.80000000e+03, 8.90243902e-01],\n",
       "       [9.90000000e+03, 8.78048780e-01],\n",
       "       [1.00000000e+04, 8.78048780e-01],\n",
       "       [1.01000000e+04, 9.02439024e-01],\n",
       "       [1.02000000e+04, 9.14634146e-01],\n",
       "       [1.03000000e+04, 8.90243902e-01],\n",
       "       [1.04000000e+04, 8.90243902e-01],\n",
       "       [1.05000000e+04, 9.14634146e-01],\n",
       "       [1.06000000e+04, 8.78048780e-01],\n",
       "       [1.07000000e+04, 8.90243902e-01],\n",
       "       [1.08000000e+04, 8.90243902e-01],\n",
       "       [1.09000000e+04, 9.02439024e-01],\n",
       "       [1.10000000e+04, 8.78048780e-01],\n",
       "       [1.11000000e+04, 9.14634146e-01],\n",
       "       [1.12000000e+04, 8.90243902e-01],\n",
       "       [1.13000000e+04, 9.02439024e-01],\n",
       "       [1.14000000e+04, 8.78048780e-01],\n",
       "       [1.15000000e+04, 9.14634146e-01],\n",
       "       [1.16000000e+04, 8.78048780e-01],\n",
       "       [1.17000000e+04, 8.90243902e-01],\n",
       "       [1.18000000e+04, 8.90243902e-01],\n",
       "       [1.19000000e+04, 8.78048780e-01]])"
      ]
     },
     "execution_count": 90,
     "metadata": {},
     "output_type": "execute_result"
    }
   ],
   "source": [
    "socre_per_features=[i for i in zip(no_of_features,scores)]\n",
    "socre_per_features=np.array(socre_per_features)\n",
    "socre_per_features"
   ]
  },
  {
   "cell_type": "code",
   "execution_count": 91,
   "id": "281bbe59",
   "metadata": {},
   "outputs": [
    {
     "name": "stdout",
     "output_type": "stream",
     "text": [
      "800 is the best number of feature based on f_classif feature selection technique technique with  0.939 accuracy using RandomForest model\n"
     ]
    }
   ],
   "source": [
    "\n",
    "best_no_of_features_values = max(socre_per_features, key=lambda x: x[1])\n",
    "\n",
    "best_no_of_features=int(best_no_of_features_values[0])\n",
    "highest_accuracy=best_no_of_features_values[1]\n",
    "print(f\"{best_no_of_features} is the best number of feature based on f_classif feature selection technique technique with {highest_accuracy: .4} accuracy using RandomForest model\")\n"
   ]
  },
  {
   "cell_type": "code",
   "execution_count": 97,
   "id": "f3482a53",
   "metadata": {},
   "outputs": [
    {
     "name": "stdout",
     "output_type": "stream",
     "text": [
      "Selected Features: Index(['31403_at', '31444_s_at', '31525_s_at', '31638_at', '31687_f_at',\n",
      "       '31918_at', '32425_at', '32444_at', '32996_g_at', '33051_at',\n",
      "       ...\n",
      "       '227_g_at', '236_at', '237_s_at', '202_at', '185_at', '197_at',\n",
      "       '198_g_at', '162_at', '149_at', '113_i_at'],\n",
      "      dtype='object', length=800)\n"
     ]
    }
   ],
   "source": [
    "selector = SelectKBest(f_classif, k=best_no_of_features)  # Select top 5 features (adjust as needed)\n",
    "X_selected = selector.fit_transform(X, y)\n",
    "\n",
    "selected_indices = selector.get_support(indices=True)\n",
    "\n",
    "#selected genes\n",
    "selected_features = X.columns[selected_indices]\n",
    "\n",
    "print(\"Selected Features:\", selected_features)\n"
   ]
  },
  {
   "cell_type": "code",
   "execution_count": 98,
   "id": "891be5f8",
   "metadata": {},
   "outputs": [
    {
     "data": {
      "text/plain": [
       "RandomForestClassifier()"
      ]
     },
     "execution_count": 98,
     "metadata": {},
     "output_type": "execute_result"
    }
   ],
   "source": [
    "RandomForest.fit(X_train[selected_indices],y_train)"
   ]
  },
  {
   "cell_type": "code",
   "execution_count": 99,
   "id": "5cd70966",
   "metadata": {},
   "outputs": [
    {
     "data": {
      "text/plain": [
       "array([1, 0, 0, 0, 0, 0, 0, 1, 4, 3, 0, 0, 0, 0, 3, 0, 0, 0, 0, 0, 0, 0,\n",
       "       0, 0, 4, 1, 0, 0, 0, 4, 0, 0, 4, 0, 4, 0, 0, 0, 0, 0, 0, 0, 0, 3,\n",
       "       0, 4, 0, 1, 1, 0, 0, 0, 0, 2, 0, 0, 1, 0, 3, 3, 0, 0, 0, 0, 0, 0,\n",
       "       0, 0, 1, 0, 2, 0, 4, 0, 4, 0, 0, 0, 0, 0, 0, 0])"
      ]
     },
     "execution_count": 99,
     "metadata": {},
     "output_type": "execute_result"
    }
   ],
   "source": [
    "pred=RandomForest.predict(X_test[selected_indices])\n",
    "pred"
   ]
  },
  {
   "cell_type": "code",
   "execution_count": 100,
   "id": "d1ae5444",
   "metadata": {},
   "outputs": [
    {
     "name": "stdout",
     "output_type": "stream",
     "text": [
      "              precision    recall  f1-score   support\n",
      "\n",
      "           0       0.98      0.92      0.95        60\n",
      "           1       0.86      0.86      0.86         7\n",
      "           2       1.00      1.00      1.00         2\n",
      "           3       0.56      1.00      0.71         5\n",
      "           4       1.00      1.00      1.00         8\n",
      "\n",
      "    accuracy                           0.93        82\n",
      "   macro avg       0.88      0.95      0.90        82\n",
      "weighted avg       0.95      0.93      0.93        82\n",
      "\n"
     ]
    }
   ],
   "source": [
    "print(classification_report(pred,y_test))"
   ]
  },
  {
   "cell_type": "code",
   "execution_count": 102,
   "id": "5261e2e1",
   "metadata": {},
   "outputs": [
    {
     "data": {
      "text/plain": [
       "<AxesSubplot:>"
      ]
     },
     "execution_count": 102,
     "metadata": {},
     "output_type": "execute_result"
    },
    {
     "data": {
      "image/png": "[encoded data removed]",
      "text/plain": [
       "<Figure size 432x288 with 2 Axes>"
      ]
     },
     "metadata": {
      "needs_background": "light"
     },
     "output_type": "display_data"
    }
   ],
   "source": [
    "sns.heatmap(confusion_matrix(pred,y_test),annot=True)"
   ]
  },
  {
   "cell_type": "code",
   "execution_count": 96,
   "id": "ab863cbc",
   "metadata": {},
   "outputs": [
    {
     "name": "stderr",
     "output_type": "stream",
     "text": [
      "C:\\Users\\khali\\anaconda3\\lib\\site-packages\\sklearn\\linear_model\\_logistic.py:814: ConvergenceWarning: lbfgs failed to converge (status=1):\n",
      "STOP: TOTAL NO. of ITERATIONS REACHED LIMIT.\n",
      "\n",
      "Increase the number of iterations (max_iter) or scale the data as shown in:\n",
      "    https://scikit-learn.org/stable/modules/preprocessing.html\n",
      "Please also refer to the documentation for alternative solver options:\n",
      "    https://scikit-learn.org/stable/modules/linear_model.html#logistic-regression\n",
      "  n_iter_i = _check_optimize_result(\n"
     ]
    },
    {
     "data": {
      "text/plain": [
       "LogisticRegression()"
      ]
     },
     "execution_count": 96,
     "metadata": {},
     "output_type": "execute_result"
    }
   ],
   "source": [
    "logregression = LogisticRegression()\n",
    "\n",
    "logregression.fit(X_train[selected_indices], y_train)  \n",
    "\n"
   ]
  },
  {
   "cell_type": "code",
   "execution_count": 76,
   "id": "f28737b9",
   "metadata": {},
   "outputs": [],
   "source": [
    "y_pred = logregression.predict(X_test)         \n",
    "accuracy = accuracy_score(y_test, y_pred)\n",
    "report = classification_report(y_test, y_pred)"
   ]
  },
  {
   "cell_type": "code",
   "execution_count": 81,
   "id": "27a577a9",
   "metadata": {},
   "outputs": [
    {
     "name": "stdout",
     "output_type": "stream",
     "text": [
      "Accuracy: 0.951\n",
      "Classification Summary:\n",
      "               precision    recall  f1-score   support\n",
      "\n",
      "           0       0.96      0.96      0.96        28\n",
      "           1       0.75      0.75      0.75         4\n",
      "           2       1.00      1.00      1.00         1\n",
      "           3       1.00      1.00      1.00         4\n",
      "           4       1.00      1.00      1.00         4\n",
      "\n",
      "    accuracy                           0.95        41\n",
      "   macro avg       0.94      0.94      0.94        41\n",
      "weighted avg       0.95      0.95      0.95        41\n",
      "\n"
     ]
    }
   ],
   "source": [
    "\n",
    "print(f\"Accuracy: {accuracy:.3f}\")\n",
    "print(f\"Classification Summary:\\n {report}\")"
   ]
  },
  {
   "cell_type": "code",
   "execution_count": 85,
   "id": "ff279acb",
   "metadata": {},
   "outputs": [
    {
     "name": "stdout",
     "output_type": "stream",
     "text": [
      "Predicted Cancer Types:[b'1' b'1' b'1' b'3' b'1' b'5' b'1' b'4' b'1' b'5' b'1' b'2' b'1' b'1'\n",
      " b'1' b'2' b'4' b'1' b'1' b'1' b'5' b'4' b'1' b'1' b'1' b'1' b'1' b'2'\n",
      " b'1' b'1' b'1' b'1' b'1' b'1' b'1' b'1' b'1' b'4' b'1' b'2' b'5']\n"
     ]
    }
   ],
   "source": [
    "y_pred_decoded = label_encoder.inverse_transform(y_pred)\n",
    "print(f\"Predicted Cancer Types:{y_pred_decoded}\")"
   ]
  },
  {
   "cell_type": "code",
   "execution_count": 111,
   "id": "0521c04a",
   "metadata": {},
   "outputs": [],
   "source": [
    "svc = SVC()\n",
    "svc.fit(X_train, y_train)\n",
    "y_pred = svc.predict(X_test)\n"
   ]
  },
  {
   "cell_type": "code",
   "execution_count": 121,
   "id": "bc2bef10",
   "metadata": {},
   "outputs": [
    {
     "ename": "SyntaxError",
     "evalue": "invalid non-printable character U+00A0 (517063806.py, line 1)",
     "output_type": "error",
     "traceback": [
      "\u001b[1;36m  Input \u001b[1;32mIn [121]\u001b[1;36m\u001b[0m\n\u001b[1;33m    print(f\"Predicted Cancer Typescvv {y_pred_original}\")\u001b[0m\n\u001b[1;37m                                  ^\u001b[0m\n\u001b[1;31mSyntaxError\u001b[0m\u001b[1;31m:\u001b[0m invalid non-printable character U+00A0\n"
     ]
    }
   ],
   "source": []
  },
  {
   "cell_type": "code",
   "execution_count": 73,
   "id": "48c8ef92",
   "metadata": {},
   "outputs": [
    {
     "data": {
      "text/plain": [
       "array([0, 0, 0, 2, 0, 4, 0, 3, 0, 4, 1, 1, 0, 0, 0, 0, 3, 0, 0, 0, 4, 3,\n",
       "       0, 0, 0, 0, 0, 1, 0, 0, 0, 0, 0, 0, 0, 0, 0, 3, 0, 1, 4])"
      ]
     },
     "execution_count": 73,
     "metadata": {},
     "output_type": "execute_result"
    }
   ],
   "source": [
    "model = Sequential()\n",
    "model.add(Dense(64, input_dim=X_train_scaled.shape[1], activation='relu'))\n",
    "model.add(Dense(32, activation='relu'))\n",
    "model.add(Dense(5, activation='softmax'))  # 5 output classes, one for each type of cancer\n",
    "\n",
    "# Compile the model\n",
    "model.compile(loss='categorical_crossentropy', optimizer='adam', metrics=['accuracy'])\n",
    "\n",
    "# Train the model\n",
    "model.fit(X_train, y_train, epochs=10, batch_size=32, validation_split=0.1)"
   ]
  },
  {
   "cell_type": "code",
   "execution_count": 106,
   "id": "7df3cbac",
   "metadata": {},
   "outputs": [
    {
     "name": "stdout",
     "output_type": "stream",
     "text": [
      "              PC1          PC2\n",
      "0     4294.574337 -2602.990841\n",
      "1    -7321.610286 -5683.607700\n",
      "2    -4849.176655 -2224.593600\n",
      "3    -6903.139069 -6631.328832\n",
      "4    -7544.389198  -916.036561\n",
      "..            ...          ...\n",
      "198  19985.371627 -2843.106427\n",
      "199  14886.420314  -200.846280\n",
      "200  18104.805557 -1491.061718\n",
      "201   5273.521690 -2116.568138\n",
      "202  20824.485992 -2167.989498\n",
      "\n",
      "[203 rows x 2 columns]\n"
     ]
    }
   ],
   "source": [
    "\n",
    "\n",
    "numerical_columns = df.select_dtypes(include='number')\n",
    "\n",
    "n_components = 2\n",
    "pca = PCA(n_components=n_components)\n",
    "\n",
    "principal_components = pca.fit_transform(numerical_columns)\n",
    "\n",
    "principal_df = pd.DataFrame(data=principal_components, columns=['PC{}'.format(i+1) for i in range(n_components)])\n",
    "\n",
    "print(principal_df)\n",
    "\n",
    "\n"
   ]
  },
  {
   "cell_type": "code",
   "execution_count": null,
   "id": "3f077318",
   "metadata": {},
   "outputs": [],
   "source": []
  }
 ],
 "metadata": {
  "kernelspec": {
   "display_name": "Python 3 (ipykernel)",
   "language": "python",
   "name": "python3"
  },
  "language_info": {
   "codemirror_mode": {
    "name": "ipython",
    "version": 3
   },
   "file_extension": ".py",
   "mimetype": "text/x-python",
   "name": "python",
   "nbconvert_exporter": "python",
   "pygments_lexer": "ipython3",
   "version": "3.9.12"
  }
 },
 "nbformat": 4,
 "nbformat_minor": 5
}
