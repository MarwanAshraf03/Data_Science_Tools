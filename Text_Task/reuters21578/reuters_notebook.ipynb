{
 "cells": [
  {
   "cell_type": "code",
   "execution_count": 22,
   "metadata": {},
   "outputs": [],
   "source": [
    "import re\n",
    "title_body_dict = {}\n",
    "for num in range(22):\n",
    "    file = f\"reut2-{num:03d}.sgm\"\n",
    "    with open(file=file, mode=\"r\") as f:\n",
    "        s = f.read()\n",
    "    value = re.findall(\"<BODY>(.*?)</BODY>\", s, re.S)\n",
    "    key = re.findall(\"<TITLE>(.*)</TITLE>\", s)\n",
    "    for i in range(len(key)):\n",
    "        title_body_dict[key[i]] = value[i]\n",
    "\n",
    "all_articles = \"\"\n",
    "\n",
    "for i in title_body_dict.keys():\n",
    "    all_articles += title_body_dict[i]\n",
    "\n",
    "all_words = all_articles.split()\n",
    "unique_words = set(all_words)"
   ]
  },
  {
   "cell_type": "code",
   "execution_count": 23,
   "metadata": {},
   "outputs": [],
   "source": [
    "unique_words = set(all_words)\n",
    "unique_words_list = list(unique_words)"
   ]
  },
  {
   "cell_type": "code",
   "execution_count": 34,
   "metadata": {},
   "outputs": [
    {
     "name": "stdout",
     "output_type": "stream",
     "text": [
      "83354\n"
     ]
    }
   ],
   "source": [
    "print(len(unique_words_list))"
   ]
  },
  {
   "cell_type": "code",
   "execution_count": 33,
   "metadata": {},
   "outputs": [],
   "source": [
    "word = 0\n",
    "while True:\n",
    "    for char in unique_words_list[word]:\n",
    "        if char in \"123456789$\":\n",
    "            del unique_words_list[word]\n",
    "            break\n",
    "    word += 1\n",
    "    if word >= len(unique_words_list):\n",
    "        break"
   ]
  },
  {
   "cell_type": "code",
   "execution_count": 44,
   "metadata": {},
   "outputs": [
    {
     "name": "stdout",
     "output_type": "stream",
     "text": [
      "\"wanted\n"
     ]
    }
   ],
   "source": [
    "print(unique_words_list[0])"
   ]
  },
  {
   "cell_type": "code",
   "execution_count": 43,
   "metadata": {},
   "outputs": [],
   "source": [
    "for i in range(len(unique_words_list[0])):\n",
    "    if i == '\"':\n",
    "        del unique_words_list[0][i]"
   ]
  },
  {
   "cell_type": "code",
   "execution_count": 45,
   "metadata": {},
   "outputs": [
    {
     "name": "stdout",
     "output_type": "stream",
     "text": [
      "\"\n"
     ]
    }
   ],
   "source": [
    "print(unique_words_list[0][0])"
   ]
  },
  {
   "cell_type": "code",
   "execution_count": 49,
   "metadata": {},
   "outputs": [],
   "source": [
    "unique_words_list[0] = unique_words_list[0].replace('\"', '')"
   ]
  },
  {
   "cell_type": "code",
   "execution_count": 50,
   "metadata": {},
   "outputs": [
    {
     "name": "stdout",
     "output_type": "stream",
     "text": [
      "wanted\n"
     ]
    }
   ],
   "source": [
    "print(unique_words_list[0])"
   ]
  }
 ],
 "metadata": {
  "kernelspec": {
   "display_name": "Python 3",
   "language": "python",
   "name": "python3"
  },
  "language_info": {
   "codemirror_mode": {
    "name": "ipython",
    "version": 3
   },
   "file_extension": ".py",
   "mimetype": "text/x-python",
   "name": "python",
   "nbconvert_exporter": "python",
   "pygments_lexer": "ipython3",
   "version": "3.10.5"
  }
 },
 "nbformat": 4,
 "nbformat_minor": 2
}
